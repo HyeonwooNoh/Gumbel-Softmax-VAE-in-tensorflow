{
 "cells": [
  {
   "cell_type": "code",
   "execution_count": null,
   "metadata": {},
   "outputs": [],
   "source": [
    "%matplotlib inline\n",
    "\n",
    "import collections\n",
    "import csv\n",
    "import glob\n",
    "import os\n",
    "import pandas as pd \n",
    "import matplotlib\n",
    "import numpy as np\n",
    "\n",
    "from matplotlib import pyplot as plt"
   ]
  },
  {
   "cell_type": "code",
   "execution_count": null,
   "metadata": {},
   "outputs": [],
   "source": [
    "def load_data(path_list):\n",
    "    data_list = []\n",
    "    for i, path in enumerate(path_list):\n",
    "        csv_data = pd.read_csv(path)\n",
    "        csv_data['id'] = i\n",
    "        csv_data['path'] = path\n",
    "        csv_data['dirname'] = os.path.dirname(path)\n",
    "        data_list.append(csv_data)\n",
    "    return pd.concat(data_list, sort=False)"
   ]
  },
  {
   "cell_type": "code",
   "execution_count": null,
   "metadata": {},
   "outputs": [],
   "source": [
    "path_list = list(glob.iglob('raw_data/**/*.csv', recursive=True))\n",
    "print('\\n'.join(path_list))"
   ]
  },
  {
   "cell_type": "code",
   "execution_count": null,
   "metadata": {},
   "outputs": [],
   "source": [
    "data = load_data(path_list)"
   ]
  },
  {
   "cell_type": "code",
   "execution_count": null,
   "metadata": {},
   "outputs": [],
   "source": [
    "colormaps = [\n",
    "    matplotlib.cm.Blues,\n",
    "    matplotlib.cm.Reds,\n",
    "]"
   ]
  },
  {
   "cell_type": "code",
   "execution_count": null,
   "metadata": {},
   "outputs": [],
   "source": [
    "plt.figure(figsize=(10, 6))\n",
    "legend = collections.defaultdict(list)\n",
    "target_data = data[data['dirname'].str.contains('smp10')]\n",
    "dirname_list = sorted(list(set(target_data['dirname'])))\n",
    "for i_d, dirname in enumerate(dirname_list):\n",
    "    print(dirname)\n",
    "    q_data = target_data.query(\"dirname == '{}'\".format(dirname))\n",
    "    for i_id, id in enumerate(list(set(q_data['id']))):\n",
    "        qi_data = q_data.query(\"id == {}\".format(id))\n",
    "        line = plt.plot(qi_data['Step'], qi_data['Value'] * 100,\n",
    "                        color=colormaps[i_d](i_id * 30 + 50), label=dirname,\n",
    "                        linewidth=2, alpha=0.8)\n",
    "        if i_id == len(list(set(q_data['id']))) - 1:\n",
    "            legend['lines'].append(line[0])\n",
    "            legend['labels'].append(dirname)\n",
    "        \n",
    "plt.legend(legend['lines'], legend['labels'], frameon=False, fontsize=15)\n",
    "plt.ylim([60, 100])\n",
    "plt.xlabel('Iterations', fontsize=15)\n",
    "plt.ylabel('Accuracy', fontsize=15)\n",
    "plt.title('Number of supervision for class: 10', fontsize=20)\n",
    "plt.show()"
   ]
  },
  {
   "cell_type": "code",
   "execution_count": null,
   "metadata": {},
   "outputs": [],
   "source": [
    "plt.figure(figsize=(10, 6))\n",
    "legend = collections.defaultdict(list)\n",
    "target_data = data[data['dirname'].str.contains('smp2')]\n",
    "dirname_list = sorted(list(set(target_data['dirname'])))\n",
    "for i_d, dirname in enumerate(dirname_list):\n",
    "    print(dirname)\n",
    "    q_data = target_data.query(\"dirname == '{}'\".format(dirname))\n",
    "    for i_id, id in enumerate(list(set(q_data['id']))):\n",
    "        qi_data = q_data.query(\"id == {}\".format(id))\n",
    "        line = plt.plot(qi_data['Step'], qi_data['Value'] * 100,\n",
    "                        color=colormaps[i_d](i_id * 20 + 100), label=dirname,\n",
    "                        linewidth=2, alpha=0.8)\n",
    "        if i_id == len(list(set(q_data['id']))) - 1:\n",
    "            legend['lines'].append(line[0])\n",
    "            legend['labels'].append(dirname)\n",
    "        \n",
    "plt.legend(legend['lines'], legend['labels'], frameon=False, fontsize=15)\n",
    "plt.ylim([0, 80])\n",
    "plt.xlabel('Iterations', fontsize=15)\n",
    "plt.ylabel('Accuracy', fontsize=15)\n",
    "plt.title('Number of supervision for class: 2', fontsize=20)\n",
    "plt.show()"
   ]
  }
 ],
 "metadata": {
  "kernelspec": {
   "display_name": "Python 3",
   "language": "python",
   "name": "python3"
  },
  "language_info": {
   "codemirror_mode": {
    "name": "ipython",
    "version": 3
   },
   "file_extension": ".py",
   "mimetype": "text/x-python",
   "name": "python",
   "nbconvert_exporter": "python",
   "pygments_lexer": "ipython3",
   "version": "3.5.2"
  }
 },
 "nbformat": 4,
 "nbformat_minor": 2
}
